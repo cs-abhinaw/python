{
 "cells": [
  {
   "cell_type": "code",
   "execution_count": null,
   "id": "997d2101",
   "metadata": {},
   "outputs": [],
   "source": [
    "#least number of among three number \n",
    "num1=int(input(\"enter your number 1: \"))\n",
    "num2=int(input(\"enter your number 2: \"))\n",
    "num3=int(input(\"enter your number 3: \"))\n",
    "if(num1>num2>num3 ):\n",
    "    print(f\"{num1} is greater\")\n",
    "elif(num2>num1>num3):\n",
    "    print(f\"{num2} is greater \")\n",
    "else:\n",
    "    print(f\"{num3} is greater\")"
   ]
  },
  {
   "cell_type": "code",
   "execution_count": null,
   "id": "cdd8ffc5",
   "metadata": {},
   "outputs": [],
   "source": [
    "#nested if conditional\n",
    "letter= input(\"enter letter a or b\")\n",
    "if(letter==\"A\"):\n",
    "    print(\"letter a is pressed\")\n",
    "elif(letter==\"B\"):\n",
    "    print(\"letter b is pressed\")\n",
    "else:\n",
    "    print(\"other letter is pressed \")"
   ]
  },
  {
   "cell_type": "code",
   "execution_count": null,
   "id": "8f202a5d",
   "metadata": {},
   "outputs": [],
   "source": [
    "user_name = \"Abhinaw\"\n",
    "pwd = \"aishu\"\n",
    "\n",
    "uname = input(\"Enter your username: \")\n",
    "upwd = input(\"Enter your password: \")\n",
    "\n",
    "if user_name == uname and pwd == upwd:\n",
    "    print(\"Login Successful\")\n",
    "elif user_name == uname and pwd != upwd:\n",
    "    print(\"Please enter your correct password\")\n",
    "elif user_name != uname and pwd == upwd:\n",
    "    print(\"Please enter your correct username\")\n",
    "else:\n",
    "    print(\"Please enter valid credentials\")\n"
   ]
  },
  {
   "cell_type": "code",
   "execution_count": null,
   "id": "69bd7131",
   "metadata": {},
   "outputs": [],
   "source": [
    "#Age Calculator\n",
    "birth_year=int(input(\"enter your birth year\"))\n",
    "current_year=2024\n",
    "age=current_year-birth_year\n",
    "print(age)"
   ]
  },
  {
   "cell_type": "code",
   "execution_count": null,
   "id": "087a2f2b",
   "metadata": {},
   "outputs": [],
   "source": [
    "#tip calculator\n",
    "bill_amt=int(input(\"please enter your bill amount\"))\n",
    "tip_percentage=int(input(\"please input the tip %\"))\n",
    "tip=(bill_amt*tip_percentage)/100\n",
    "total_bill=bill_amt+tip\n",
    "print(f\"your tip =: {tip}\")\n",
    "print(f\"your total bill is :{total_bill}\")\n"
   ]
  },
  {
   "cell_type": "markdown",
   "id": "a80d00aa",
   "metadata": {},
   "source": [
    "Range and loops in python \n",
    "\n",
    "its syntax is just like it \n",
    "range(start, stop, step)"
   ]
  },
  {
   "cell_type": "code",
   "execution_count": null,
   "id": "d4ec05d5",
   "metadata": {},
   "outputs": [],
   "source": [
    "print(list(range(10)))\n",
    "print(list(range(0,10,2)))\n",
    "print(list(range(-10,0,1)))"
   ]
  },
  {
   "cell_type": "code",
   "execution_count": null,
   "id": "45f30a56",
   "metadata": {},
   "outputs": [],
   "source": [
    "#odd number using range()\n",
    "print(list(range(0,20,2)))\n",
    "#even number using range()\n",
    "print(list(range(1,20,2)))\n",
    "#reverse order 10 to 1\n",
    "print(list(range(10,0,-1)))"
   ]
  },
  {
   "cell_type": "markdown",
   "id": "5dc4d330",
   "metadata": {},
   "source": [
    "iterative statement\n",
    "\n",
    "for loop\n",
    "for element in range(1,5):\n",
    "\n",
    "print(element)"
   ]
  },
  {
   "cell_type": "code",
   "execution_count": null,
   "id": "0707245e",
   "metadata": {},
   "outputs": [],
   "source": [
    "for i in range(20):\n",
    "    if i%2==0:\n",
    "        print(i,end=' ')"
   ]
  },
  {
   "cell_type": "code",
   "execution_count": null,
   "id": "928b8135",
   "metadata": {},
   "outputs": [],
   "source": [
    "#print sum of the given number\n",
    "\n",
    "k=10\n",
    "sumi =0\n",
    "while(k>=0):\n",
    "    \n",
    "   \n",
    "    k=k-1\n",
    "    sumi=sumi+k\n",
    "print(f\"total sum : {sumi}\")\n"
   ]
  },
  {
   "cell_type": "code",
   "execution_count": null,
   "id": "761d4bc0",
   "metadata": {},
   "outputs": [],
   "source": [
    "k=int(input(\"enter a digit \"))\n",
    "sum=0\n",
    "for i in range(k,0,-1):\n",
    "    sum+=i\n",
    "    \n",
    "print(sum)"
   ]
  },
  {
   "cell_type": "code",
   "execution_count": null,
   "id": "0b0fc778",
   "metadata": {},
   "outputs": [],
   "source": [
    "#to print python number of times\n",
    "\n",
    "for x in range(0,4,1):\n",
    "    print(\"python\")\n",
    "    x=x+1"
   ]
  },
  {
   "cell_type": "code",
   "execution_count": null,
   "id": "c95e74d4",
   "metadata": {},
   "outputs": [],
   "source": [
    "name=''\n",
    "while name!=\"python\":\n",
    "    name=input(\"enter your programming language\")\n",
    "print(name)"
   ]
  },
  {
   "cell_type": "code",
   "execution_count": null,
   "id": "a47d3b22",
   "metadata": {},
   "outputs": [],
   "source": [
    "print(\"Welcome to Treasure Island.\")\n",
    "print(\"Your mission is to find the treasure.\")\n",
    "\n",
    "choice1 = input('You\\'re at a cross road. Where do you want to go? Type \"left\" or \"right\" \\n').lower()\n",
    "if choice1 == \"left\":\n",
    "  choice2 = input('You\\'ve come to a lake. There is an island in the middle of the lake. Type \"wait\" to wait for a boat. Type \"swim\" to swim across. \\n').lower()\n",
    "  if choice2 == \"wait\":\n",
    "    choice3 = input(\"You arrive at the island unharmed. There is a house with 3 doors. One red, one yellow and one blue. Which colour do you choose? \\n\").lower()\n",
    "    if choice3 == \"red\":\n",
    "      print(\"It's a room full of fire. Game Over.\")\n",
    "    elif choice3 == \"yellow\":\n",
    "      print(\"You found the treasure! You Win!\")\n",
    "    elif choice3 == \"blue\":\n",
    "      print(\"You enter a room of beasts. Game Over.\")\n",
    "    else:\n",
    "      print(\"You chose a door that doesn't exist. Game Over.\")\n",
    "  else:\n",
    "    print(\"You get attacked by an angry trout. Game Over.\")\n",
    "else:\n",
    "  print(\"You fell into a hole. Game Over.\")\n"
   ]
  },
  {
   "cell_type": "code",
   "execution_count": null,
   "id": "2a28e13b",
   "metadata": {},
   "outputs": [],
   "source": [
    "for i in range(10):\n",
    "    for j in range(i):\n",
    "        print (i ,j)"
   ]
  },
  {
   "cell_type": "code",
   "execution_count": null,
   "id": "94f41889",
   "metadata": {},
   "outputs": [
    {
     "name": "stdout",
     "output_type": "stream",
     "text": [
      "1 2 3 \n",
      "4 5 6 \n",
      "9 8 7 \n"
     ]
    }
   ],
   "source": [
    "n_list=[[1,2,3],[4,5,6],[9,8,7]]\n",
    "for n in n_list:\n",
    "    for x in n:\n",
    "        print(x,end=\" \")\n",
    "    print()"
   ]
  },
  {
   "cell_type": "code",
   "execution_count": null,
   "id": "fd522647",
   "metadata": {},
   "outputs": [],
   "source": [
    "print('''\n",
    "*******************************************************************************\n",
    "          |                   |                  |                     |\n",
    " _________|________________.=\"\"_;=.______________|_____________________|_______\n",
    "|                   |  ,-\"_,=\"\"     `\"=.|                  |\n",
    "|___________________|__\"=._o`\"-._        `\"=.______________|___________________\n",
    "          |                `\"=._o`\"=._      _`\"=._                     |\n",
    " _________|_____________________:=._o \"=._.\"_.-=\"'\"=.__________________|_______\n",
    "|                   |    __.--\" , ; `\"=._o.\" ,-\"\"\"-._ \".   |\n",
    "|___________________|_._\"  ,. .` ` `` ,  `\"-._\"-._   \". '__|___________________\n",
    "          |           |o`\"=._` , \"` `; .\". ,  \"-._\"-._; ;              |\n",
    " _________|___________| ;`-.o`\"=._; .\" ` '`.\"\\` . \"-._ /_______________|_______\n",
    "|                   | |o;    `\"-.o`\"=._``  '` \" ,__.--o;   |\n",
    "|___________________|_| ;     (#) `-.o `\"=.`_.--\"_o.-; ;___|___________________\n",
    "____/______/______/___|o;._    \"      `\".o|o_.--\"    ;o;____/______/______/____\n",
    "/______/______/______/_\"=._o--._        ; | ;        ; ;/______/______/______/_\n",
    "____/______/______/______/__\"=._o--._   ;o|o;     _._;o;____/______/______/____\n",
    "/______/______/______/______/____\"=._o._; | ;_.--\"o.--\"_/______/______/______/_\n",
    "____/______/______/______/______/_____\"=.o|o_.--\"\"___/______/______/______/____\n",
    "/______/______/______/______/______/______/______/______/______/______/_____ /\n",
    "*******************************************************************************\n",
    "''')\n",
    "\n",
    "print(\"Welcome to Treasure Island.\")\n",
    "print(\"Your mission is to find the treasure.\")\n",
    "\n",
    "choice1 = input('You\\'re at a cross road. Where do you want to go? Type \"left\" or \"right\" \\n').lower()\n",
    "if choice1 == \"left\":\n",
    "  choice2 = input('You\\'ve come to a lake. There is an island in the middle of the lake. Type \"wait\" to wait for a boat. Type \"swim\" to swim across. \\n').lower()\n",
    "  if choice2 == \"wait\":\n",
    "    choice3 = input(\"You arrive at the island unharmed. There is a house with 3 doors. One red, one yellow and one blue. Which colour do you choose? \\n\").lower()\n",
    "    if choice3 == \"red\":\n",
    "      print(\"It's a room full of fire. Game Over.\")\n",
    "    elif choice3 == \"yellow\":\n",
    "      print(\"You found the treasure! You Win!\")\n",
    "    elif choice3 == \"blue\":\n",
    "      print(\"You enter a room of beasts. Game Over.\")\n",
    "    else:\n",
    "      print(\"You chose a door that doesn't exist. Game Over.\")\n",
    "  else:\n",
    "    print(\"You get attacked by an angry trout. Game Over.\")\n",
    "else:\n",
    "  print(\"You fell into a hole. Game Over.\")"
   ]
  }
 ],
 "metadata": {
  "kernelspec": {
   "display_name": "Python 3",
   "language": "python",
   "name": "python3"
  },
  "language_info": {
   "codemirror_mode": {
    "name": "ipython",
    "version": 3
   },
   "file_extension": ".py",
   "mimetype": "text/x-python",
   "name": "python",
   "nbconvert_exporter": "python",
   "pygments_lexer": "ipython3",
   "version": "3.13.5"
  }
 },
 "nbformat": 4,
 "nbformat_minor": 5
}
