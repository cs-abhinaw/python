{
 "cells": [
  {
   "cell_type": "code",
   "execution_count": 12,
   "id": "d9809a2b",
   "metadata": {},
   "outputs": [
    {
     "name": "stdout",
     "output_type": "stream",
     "text": [
      "abhinaw singh\n"
     ]
    }
   ],
   "source": [
    "class person:\n",
    "    def __init__(self,fname,lname):\n",
    "        self.firstname=fname\n",
    "        self.lastname=lname\n",
    "\n",
    "    def y(self):\n",
    "        print(self.firstname,self.lastname)\n",
    "\n",
    "k = person(\"abhinaw\",\"singh\")\n",
    "k.y()"
   ]
  },
  {
   "cell_type": "code",
   "execution_count": 13,
   "id": "3b006566",
   "metadata": {},
   "outputs": [
    {
     "name": "stdout",
     "output_type": "stream",
     "text": [
      "['apple', 'pen', 'kurkure', 'rice']\n"
     ]
    }
   ],
   "source": [
    "grocery =[\"apple\",\"pen\",\"kurkure\"]\n",
    "\n",
    "grocery.append(\"rice\")\n",
    "print(grocery)"
   ]
  },
  {
   "cell_type": "code",
   "execution_count": 14,
   "id": "6403c358",
   "metadata": {},
   "outputs": [
    {
     "name": "stdout",
     "output_type": "stream",
     "text": [
      "name abhinaw course data science college besant Technologies\n",
      "name abhinaw course data science college besant Technologies\n",
      "name abhinaw course data science college besant Technologies \n"
     ]
    }
   ],
   "source": [
    "name=\"abhinaw\"\n",
    "course=\"data science\"\n",
    "college=\"besant Technologies\"\n",
    "print(\"name\",name,\"course\",course,\"college\",college)\n",
    "print(f\"name {name} course {course} college {college}\")\n",
    "print(\"name {} course {} college {} \".format(name,course,college))"
   ]
  },
  {
   "cell_type": "code",
   "execution_count": null,
   "id": "90e7d69f",
   "metadata": {},
   "outputs": [],
   "source": []
  },
  {
   "cell_type": "code",
   "execution_count": null,
   "id": "171a9727",
   "metadata": {},
   "outputs": [],
   "source": [
    "#swapping of two number\n",
    "x=12\n",
    "y=21\n",
    "x,y=y,x\n",
    "print(x,y)"
   ]
  },
  {
   "cell_type": "markdown",
   "id": "d25b237a",
   "metadata": {},
   "source": [
    "conditional statements\n",
    "if,else,elif\n",
    "* if one condition get verified rest of the condition are skipped\n",
    "we can execute the code also like \n",
    "if->else->if->else->if->else"
   ]
  },
  {
   "cell_type": "code",
   "execution_count": null,
   "id": "1e55e111",
   "metadata": {},
   "outputs": [],
   "source": [
    "a=18\n",
    "if(a<18):\n",
    "    print(\"under 18\")\n",
    "elif a==18:\n",
    "    print(\"you're 18\")\n",
    "else:\n",
    "    print(\"above 18\")"
   ]
  },
  {
   "cell_type": "code",
   "execution_count": null,
   "id": "5ff73fe9",
   "metadata": {},
   "outputs": [],
   "source": [
    "course=\"science\"\n",
    "if course==\"science\":\n",
    "    print(\"interested in science\")\n",
    "elif course==\"commerce\":\n",
    "    print(\"interested in commerce\")\n",
    "else:\n",
    "    print(\"interested in arts\")"
   ]
  },
  {
   "cell_type": "markdown",
   "id": "07e4db3b",
   "metadata": {},
   "source": [
    "Questions \n",
    "1.write a program to print greater number between two or three number .\n",
    "2.print the age of user\n",
    "3.tip calculator\n",
    "4.bmi calculator"
   ]
  },
  {
   "cell_type": "code",
   "execution_count": null,
   "id": "c3f04409",
   "metadata": {},
   "outputs": [],
   "source": [
    "a=12\n",
    "b=13\n",
    "c=14\n",
    "if(a>b and a>c):\n",
    "    print(\"a\")\n",
    "elif(b>a and b>c):\n",
    "    print(\"b\")\n",
    "else:\n",
    "    print(\"c\")"
   ]
  },
  {
   "cell_type": "code",
   "execution_count": null,
   "id": "d03f43e9",
   "metadata": {},
   "outputs": [],
   "source": [
    "id=1221\n",
    "pwd=\"Aksi\"\n",
    "if(id!=1221):\n",
    "    print(\"id is incorrect\")\n",
    "elif(pwd!=\"Aks\"):\n",
    "    print(\"password is incorrect\")\n",
    "elif(id==1221 and pwd==\"Aks\"):\n",
    "    print(\"login success\")"
   ]
  },
  {
   "cell_type": "code",
   "execution_count": null,
   "id": "0d254186",
   "metadata": {},
   "outputs": [],
   "source": [
    "#question number 2\n",
    "from datetime import datetime\n",
    "birth_year=int(input(\"enter your age\"))\n",
    "current_year=2025\n",
    "age=current_year-birth_year\n",
    "print(f\"your age is {age}\")"
   ]
  },
  {
   "cell_type": "code",
   "execution_count": null,
   "id": "41d61d85",
   "metadata": {},
   "outputs": [
    {
     "name": "stdout",
     "output_type": "stream",
     "text": [
      "your bill with tip is 13200.0\n"
     ]
    }
   ],
   "source": [
    "#question number 3\n",
    "bill_amt=float(input(\"enter the bill amt\"))\n",
    "tip_percentage=float(input(\"enter the tip percentage\"))\n",
    "tip=(bill_amt*tip_percentage)/100\n",
    "total=bill_amt+tip\n",
    "print(f\"your bill with tip is {total}\")"
   ]
  },
  {
   "cell_type": "markdown",
   "id": "98983ad5",
   "metadata": {},
   "source": [
    "#need to revise\n",
    "range -> sequence of number \n",
    "range(start,stop,step)"
   ]
  },
  {
   "cell_type": "code",
   "execution_count": null,
   "id": "74681f93",
   "metadata": {},
   "outputs": [
    {
     "name": "stdout",
     "output_type": "stream",
     "text": [
      "[0, 1, 2, 3, 4, 5, 6]\n",
      "[0, 1, 2, 3, 4, 5, 6, 7, 8, 9, 10, 11, 12, 13, 14, 15, 16, 17, 18, 19]\n"
     ]
    }
   ],
   "source": [
    "print(list(range(7)))\n",
    "print(list(range(0,20,2)))\n"
   ]
  },
  {
   "cell_type": "markdown",
   "id": "f7462706",
   "metadata": {},
   "source": [
    "Loops"
   ]
  },
  {
   "cell_type": "code",
   "execution_count": 18,
   "id": "af0bfe40",
   "metadata": {},
   "outputs": [
    {
     "name": "stdout",
     "output_type": "stream",
     "text": [
      "0\n",
      "2\n",
      "4\n",
      "6\n",
      "8\n"
     ]
    }
   ],
   "source": [
    "for i in range(10):\n",
    "    if(i%2==0):\n",
    "        print(i)"
   ]
  },
  {
   "cell_type": "code",
   "execution_count": 28,
   "id": "d78f2320",
   "metadata": {},
   "outputs": [
    {
     "name": "stdout",
     "output_type": "stream",
     "text": [
      "1\n",
      "3\n",
      "5\n",
      "7\n",
      "9\n"
     ]
    }
   ],
   "source": [
    "num=0\n",
    "while num<=10:\n",
    "    if num%2!=0:\n",
    "        print(num)\n",
    "    num+=1"
   ]
  },
  {
   "cell_type": "code",
   "execution_count": null,
   "id": "92f6e696",
   "metadata": {},
   "outputs": [
    {
     "name": "stdout",
     "output_type": "stream",
     "text": [
      "python\n",
      "python\n",
      "python\n"
     ]
    }
   ],
   "source": []
  }
 ],
 "metadata": {
  "kernelspec": {
   "display_name": "Python 3",
   "language": "python",
   "name": "python3"
  },
  "language_info": {
   "codemirror_mode": {
    "name": "ipython",
    "version": 3
   },
   "file_extension": ".py",
   "mimetype": "text/x-python",
   "name": "python",
   "nbconvert_exporter": "python",
   "pygments_lexer": "ipython3",
   "version": "3.13.5"
  }
 },
 "nbformat": 4,
 "nbformat_minor": 5
}
