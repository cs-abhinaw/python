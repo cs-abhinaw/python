{
 "cells": [
  {
   "cell_type": "code",
   "execution_count": 7,
   "id": "1d504fd3",
   "metadata": {},
   "outputs": [
    {
     "name": "stdout",
     "output_type": "stream",
     "text": [
      "aiw\n"
     ]
    }
   ],
   "source": [
    "#Write a program to create a new string made of an input string’s first, middle, and last character.\n",
    "\n",
    "name=input(\"enter your name :\")\n",
    "\n",
    "first_char=name[0]\n",
    "middle_char=len(name)//2\n",
    "last_char=name[-1]\n",
    "\n",
    "\n",
    "# Convert middle_char (int) to the actual middle character (str)\n",
    "middle_char = name[len(name)//2]\n",
    "k = first_char + middle_char + last_char\n",
    "print(k)\n",
    "\n",
    "\n",
    "\n",
    "# x=input(\"enter your name :\")\n",
    "# y=input(\"enter your middle name\")\n",
    "# z=input(\"enter your last name\")\n",
    "\n",
    "# k=x+\" \"+y+\" \"+z\n",
    "# print(k)"
   ]
  }
 ],
 "metadata": {
  "kernelspec": {
   "display_name": "Python 3",
   "language": "python",
   "name": "python3"
  },
  "language_info": {
   "codemirror_mode": {
    "name": "ipython",
    "version": 3
   },
   "file_extension": ".py",
   "mimetype": "text/x-python",
   "name": "python",
   "nbconvert_exporter": "python",
   "pygments_lexer": "ipython3",
   "version": "3.13.5"
  }
 },
 "nbformat": 4,
 "nbformat_minor": 5
}
