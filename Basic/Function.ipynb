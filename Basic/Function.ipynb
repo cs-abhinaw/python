{
 "cells": [
  {
   "cell_type": "markdown",
   "id": "e2a1caf5",
   "metadata": {},
   "source": [
    "# Function"
   ]
  },
  {
   "cell_type": "code",
   "execution_count": null,
   "id": "925e713a",
   "metadata": {},
   "outputs": [],
   "source": [
    "#(lambda input_data:expression(Argument))\n",
    "res = lambda celcius: (celcius * 9/5) + 32\n",
    "print(res(32))\n",
    "\n",
    "\n",
    "x=(lambda x,y : x if x<y else y)(1231,2342)\n",
    "print(x)"
   ]
  },
  {
   "cell_type": "code",
   "execution_count": null,
   "id": "18bf923c",
   "metadata": {},
   "outputs": [],
   "source": [
    "#user defined function \n",
    "# taking two arg add and sub\n",
    "def cal(a,b):\n",
    "    sum=a+b\n",
    "    diffrence=a-b\n",
    "    return sum,diffrence\n",
    "res1,res2=cal(40,10)\n",
    "print(res1,res2)\n",
    "\n",
    "def sum(a,b):\n",
    "    \n",
    "    def sum (a,b):\n",
    "        s=a+b\n",
    "        return s\n",
    "    s=sum(a,b)\n",
    "    k=s+5\n",
    "    return k\n",
    "\n",
    "sum(12,12)"
   ]
  },
  {
   "cell_type": "code",
   "execution_count": null,
   "id": "8150f474",
   "metadata": {},
   "outputs": [],
   "source": [
    "# *args and **kwargs"
   ]
  },
  {
   "cell_type": "markdown",
   "id": "876ac234",
   "metadata": {},
   "source": [
    "## Questions \n"
   ]
  },
  {
   "cell_type": "code",
   "execution_count": null,
   "id": "337d7864",
   "metadata": {},
   "outputs": [],
   "source": [
    "#Exercise 1: Create a function in Python\n",
    "\n",
    "def abhi():\n",
    "    print(\"abhi\")\n",
    "abhi()   \n",
    "\n",
    "#Exercise 4: Create a function with a default argument\n",
    "def showEmployees(name,salary=9000):\n",
    "    print(f\"Name:{name} salary:{salary}\")\n",
    "showEmployees(\"Ben\", 12000)\n",
    "showEmployees(\"Jessa\")\n",
    "\n",
    "#Exercise 9: Find the largest item from list\n",
    "x = [4, 6, 8, 24, 12, 2]\n",
    "max_value=0\n",
    "second_max=0\n",
    "for i in range(len(x)):\n",
    "    if(x[i]>=max_value):\n",
    "        second_max=max_value\n",
    "        max_value=x[i]\n",
    "    \n",
    "    if(x[i]!=max_value and x[i]>second_max ):\n",
    "        second_max=x[i]\n",
    "print(\"largest number \",max_value)\n",
    "print(\"second number is:\",second_max)\n",
    "    \n"
   ]
  },
  {
   "cell_type": "markdown",
   "id": "c53012b0",
   "metadata": {},
   "source": [
    " ### Recursion"
   ]
  },
  {
   "cell_type": "code",
   "execution_count": null,
   "id": "e3bdc1e5",
   "metadata": {},
   "outputs": [],
   "source": [
    "#Exercise 6: Create a recursive function\n",
    "def sum(n):\n",
    "   return n*(n+1)//2\n",
    "print(sum(5))\n",
    "#factorial\n",
    "n=5\n",
    "def fact(n):\n",
    "   if n==0:\n",
    "      return 1\n",
    "   else:\n",
    "      return n*fact(n-1)\n",
    "fact(n)"
   ]
  },
  {
   "cell_type": "code",
   "execution_count": null,
   "id": "8f893441",
   "metadata": {},
   "outputs": [],
   "source": [
    "#pattern printing"
   ]
  },
  {
   "cell_type": "markdown",
   "id": "22c9d165",
   "metadata": {},
   "source": [
    "## module in py\n"
   ]
  },
  {
   "cell_type": "markdown",
   "id": "1d18dd22",
   "metadata": {},
   "source": [
    "import calculator\n",
    "from calculator import add,sub\n",
    "from calculator import *"
   ]
  },
  {
   "cell_type": "code",
   "execution_count": 4,
   "id": "8242318d",
   "metadata": {},
   "outputs": [
    {
     "name": "stdout",
     "output_type": "stream",
     "text": [
      "-1\n",
      "24\n",
      "0\n",
      "24\n"
     ]
    }
   ],
   "source": [
    "# import calculator\n",
    "\n",
    "# calculator.add(12,12)\n",
    "\n",
    "# from calculator import add\n",
    "# add(12,12)\n",
    "\n",
    "from calculator import add,sub\n",
    "print(sub(12,13))\n",
    "# print(\"add\")\n",
    "add(12,12)\n",
    "print(sub(12,12))\n",
    "add(12,12)"
   ]
  },
  {
   "cell_type": "markdown",
   "id": "51279232",
   "metadata": {},
   "source": [
    "# Package\n",
    "package is a way to organize and structure your code by grouping related modules together.\n",
    "to install :- pip install Package_name"
   ]
  },
  {
   "cell_type": "code",
   "execution_count": 5,
   "id": "9889f496",
   "metadata": {},
   "outputs": [
    {
     "data": {
      "text/plain": [
       "120"
      ]
     },
     "execution_count": 5,
     "metadata": {},
     "output_type": "execute_result"
    }
   ],
   "source": [
    "from math import *\n",
    "factorial(5)"
   ]
  },
  {
   "cell_type": "markdown",
   "id": "a57d2502",
   "metadata": {},
   "source": [
    "Common methods\n",
    "-random()\n",
    "-uniform(a,b)\n",
    "-randint(a,b)\n",
    "-randrange(a,b)\n",
    "-choice(seq)"
   ]
  },
  {
   "cell_type": "code",
   "execution_count": null,
   "id": "bfd70bfb",
   "metadata": {},
   "outputs": [
    {
     "name": "stdout",
     "output_type": "stream",
     "text": [
      "Your otp is '442655'\n",
      "k\n",
      "k5g\n",
      "k5g0x\n",
      "k5g0x7h\n",
      "your otp is 'k5g0x7h7'\n"
     ]
    }
   ],
   "source": [
    "#Random module\n",
    "from random import *\n",
    "res=\"\"\n",
    "for i in range(6):\n",
    "    res=res+str(randint(0,9))\n",
    "print(f\"Your otp is '{res}'\")\n",
    "\n",
    "# for char\n",
    "res=\"\"\n",
    "for i in range(4):\n",
    "    res+=chr(randint(97,122))\n",
    "    print(res)\n",
    "    res+=str(randint(0,9))\n",
    "print(f\"your otp is '{res}'\")"
   ]
  },
  {
   "cell_type": "code",
   "execution_count": null,
   "id": "8aa07861",
   "metadata": {},
   "outputs": [],
   "source": [
    "#faker module "
   ]
  }
 ],
 "metadata": {
  "kernelspec": {
   "display_name": "Python 3",
   "language": "python",
   "name": "python3"
  },
  "language_info": {
   "codemirror_mode": {
    "name": "ipython",
    "version": 3
   },
   "file_extension": ".py",
   "mimetype": "text/x-python",
   "name": "python",
   "nbconvert_exporter": "python",
   "pygments_lexer": "ipython3",
   "version": "3.13.5"
  }
 },
 "nbformat": 4,
 "nbformat_minor": 5
}
