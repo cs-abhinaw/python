{
 "cells": [
  {
   "cell_type": "markdown",
   "id": "128433bb",
   "metadata": {},
   "source": [
    "# oops \n"
   ]
  },
  {
   "cell_type": "code",
   "execution_count": null,
   "id": "38ac65c8",
   "metadata": {},
   "outputs": [],
   "source": [
    "# creating of class\n",
    "class car:\n",
    "    def __init__(self,name,color,speed):\n",
    "         self.name=name\n",
    "         self.color=color\n",
    "         self.speed=speed\n",
    "    def display_detailes(self):\n",
    "     print(f\"car: {self.name}\")\n",
    "     print(f\"car color: {self.color}\")\n",
    "     print(f\"car speed: {self.speed} km/h\")\n",
    "    \n",
    "\n",
    "dt=car(\"BMW\",\"Black\",200)\n",
    "dt.display_detailes()\n"
   ]
  },
  {
   "cell_type": "code",
   "execution_count": null,
   "id": "1389d658",
   "metadata": {},
   "outputs": [],
   "source": [
    "# Display Fibonacci series up to 10 terms\n",
    "num1=0 \n",
    "num2=1\n",
    "for i in  range(10):\n",
    "    \n",
    "   print(num1 )\n",
    "   res=num1+num2\n",
    "   print(\"result\",res)\n",
    "   num2=num1\n",
    "   print(\"num2=\",num2)\n",
    "   num1=res\n",
    "   print(\"num1\",num1)\n"
   ]
  },
  {
   "cell_type": "markdown",
   "id": "95b263a6",
   "metadata": {},
   "source": [
    "## Why use `self` in OOP (Object-Oriented Programming) in Python?\n",
    "\n",
    "# - The `Self` parameter in Python class methods refers to the instance of the class itself.\n",
    "# - It allows access to the attributes and methods of the class in object context.\n",
    "# - Without `self`, you cannot access or modify instance variables inside methods.\n",
    "\n",
    "### What happens if you omit `self`?\n",
    "\n",
    "# - If you define a method without `self` as the first parameter, Python will raise an error when you try to call it on an object.\n",
    "# - This is because Python automatically passes the instance as the first argument to instance methods.\n",
    "\n",
    "# **Example of error:**\n",
    "\n",
    "# ```python\n",
    "# class Car:0\n",
    "#     def display_details():  # Missing 'self'\n",
    "#         print(\"This will cause an error.\")\n",
    "\n",
    "# car = Car()\n",
    "# car.display_details()  # TypeError: display_details() takes 0 positional arguments but 1 was given\n",
    "# ```\n",
    "\n",
    "# **Conclusion:**  \n",
    "# Always include `self` as the first parameter in instance methods to avoid errors and to access instance attributes."
   ]
  },
  {
   "cell_type": "markdown",
   "id": "30cded02",
   "metadata": {},
   "source": [
    "# class Objects\n",
    "inheritance,\n",
    "polymorphism,\n",
    "abstraction,\n",
    "encapsulation,"
   ]
  },
  {
   "cell_type": "markdown",
   "id": "a9c97afe",
   "metadata": {},
   "source": [
    "# variable instance\n",
    "static \n",
    "instance\n",
    "class\n",
    "local\n",
    "global\n"
   ]
  },
  {
   "cell_type": "code",
   "execution_count": null,
   "id": "7593697d",
   "metadata": {},
   "outputs": [],
   "source": [
    "# Variable Type\t           Scope\t                        Accessed By\t                            Lifetime\n",
    "# Instance Variable\t  Object-specific\tObjectName.         VariableName\t                 As long as object exists\n",
    "# Class Variable (Static)\tShared among all objects\tClassName.VariableName\t        As long as program/class is loaded\n",
    "# Local Variable\t    Within a method/function scope\t   Only inside the method\t  Exists only while method is running\n",
    "# Global Variable \t     Entire program\t                  Directly\t                   As long as program is running"
   ]
  },
  {
   "cell_type": "markdown",
   "id": "85a5270d",
   "metadata": {},
   "source": [
    "# Inheritance \n"
   ]
  },
  {
   "cell_type": "code",
   "execution_count": null,
   "id": "9c60ccf7",
   "metadata": {},
   "outputs": [],
   "source": [
    "# inheritance \n",
    "# Inheritance              Type\t            Description\n",
    "# Single              Inheritance\t  One class inherits from one parent class\n",
    "# Multilevel\t        Inheritance   chain (Grandparent → Parent → Child)\n",
    "# Hierarchical\t    Multiple classes   inherit from the same parent\n",
    "# Multiple\t        One class inherits   from multiple parent classes\n",
    "# Hybrid\t    Combination of above types\n",
    "#cyclic is not possible\n",
    "\n",
    "# Note:-\n",
    "\n",
    "# super().__init__() is used to call all the above methods\n",
    "\n",
    "# Mrao algorithm"
   ]
  },
  {
   "cell_type": "code",
   "execution_count": 8,
   "id": "b445ac1e",
   "metadata": {},
   "outputs": [
    {
     "name": "stdout",
     "output_type": "stream",
     "text": [
      "dog bark\n"
     ]
    }
   ],
   "source": [
    "#multiple inheritance\n",
    "class father :\n",
    "    def father_skills(self):\n",
    "        print(\"father knows driving\")\n",
    "class mother :\n",
    "    def mother_skills(self):\n",
    "        print(\"mother knows cooking\")\n",
    "class child(father,mother) :\n",
    "    def child_skills(self):\n",
    "        print(\"child knows painting\")\n",
    "\n",
    "c=child()\n",
    "# c.father_skills()\n",
    "# c.mother_skills()\n",
    "# c.child_skills()\n",
    "\n",
    "\n",
    "#hierarchical\n",
    "class animal:\n",
    "    def sound(self):\n",
    "        print(\"animal makes sound\")\n",
    "class dog(animal):\n",
    "    def bark(Self):\n",
    "        print(\"dog bark\")\n",
    "class cat(animal):\n",
    "    def meow(self):\n",
    "        print(\"cat meows\")\n",
    "d=dog()\n",
    "d.bark()"
   ]
  },
  {
   "cell_type": "markdown",
   "id": "8cf5f830",
   "metadata": {},
   "source": [
    "# polymorphism \n",
    "many form\n",
    "something is behaving diffrent in differnt situation."
   ]
  },
  {
   "cell_type": "code",
   "execution_count": null,
   "id": "d3f6e0cb",
   "metadata": {},
   "outputs": [],
   "source": [
    "# 2 concept\n",
    "# overriding - when one function change the behavoir of the data is known as overriding\n",
    "# overloading- when a add(a,b ) and add(a,b,c) in this case\n",
    "#the 2nd function is overloading the first one ."
   ]
  },
  {
   "cell_type": "code",
   "execution_count": 13,
   "id": "abb25356",
   "metadata": {},
   "outputs": [
    {
     "name": "stdout",
     "output_type": "stream",
     "text": [
      "36\n",
      "Employee works 8 hours\n",
      "Developer works 10 hours and codes\n"
     ]
    }
   ],
   "source": [
    "#overloading\n",
    "class sum():\n",
    "   def add(a,b):\n",
    "      print(a+b)\n",
    "def add(a,b,c):\n",
    "      print(a+b+c)\n",
    "add(12,12,12)\n",
    "\n",
    "#function overriding\n",
    "class Employee:\n",
    "    def work(self):\n",
    "        print(\"Employee works 8 hours\")\n",
    "\n",
    "class Developer(Employee):\n",
    "    def work(self):\n",
    "        print(\"Developer works 10 hours and codes\")\n",
    "\n",
    "# Usage\n",
    "e = Employee()\n",
    "e.work()\n",
    "\n",
    "d = Developer()\n",
    "d.work()\n"
   ]
  },
  {
   "cell_type": "markdown",
   "id": "54447044",
   "metadata": {},
   "source": [
    "# Abstraction\n",
    "when we don't know the implementation logic \n"
   ]
  },
  {
   "cell_type": "code",
   "execution_count": null,
   "id": "5cf5f05f",
   "metadata": {},
   "outputs": [
    {
     "ename": "ImportError",
     "evalue": "cannot import name 'abc' from 'abc' (c:\\Users\\abhin\\AppData\\Local\\Programs\\Python\\Python313\\Lib\\abc.py)",
     "output_type": "error",
     "traceback": [
      "\u001b[31m---------------------------------------------------------------------------\u001b[39m",
      "\u001b[31mImportError\u001b[39m                               Traceback (most recent call last)",
      "\u001b[36mCell\u001b[39m\u001b[36m \u001b[39m\u001b[32mIn[14]\u001b[39m\u001b[32m, line 1\u001b[39m\n\u001b[32m----> \u001b[39m\u001b[32m1\u001b[39m \u001b[38;5;28;01mfrom\u001b[39;00m\u001b[38;5;250m \u001b[39m\u001b[34;01mabc\u001b[39;00m\u001b[38;5;250m \u001b[39m\u001b[38;5;28;01mimport\u001b[39;00m abstractmethod,abc\n\u001b[32m      3\u001b[39m \u001b[38;5;28;01mclass\u001b[39;00m\u001b[38;5;250m \u001b[39m\u001b[34;01mfruit\u001b[39;00m(abc):\n\u001b[32m      4\u001b[39m     \u001b[38;5;129m@abstractmethod\u001b[39m\n\u001b[32m      5\u001b[39m     \u001b[38;5;28;01mdef\u001b[39;00m\u001b[38;5;250m \u001b[39m\u001b[34mapple\u001b[39m(\u001b[38;5;28mself\u001b[39m):\n",
      "\u001b[31mImportError\u001b[39m: cannot import name 'abc' from 'abc' (c:\\Users\\abhin\\AppData\\Local\\Programs\\Python\\Python313\\Lib\\abc.py)"
     ]
    }
   ],
   "source": [
    "#inhrit from parent classs and give to child class\n",
    "from abc import abstractmethod,ABC\n",
    "\n",
    "class fruit(ABC):\n",
    "    @abstractmethod\n",
    "    def apple(self):\n",
    "        pass\n",
    "    @abstractmethod\n",
    "    def orange(self):\n",
    "        pass\n",
    "    def avacado(self):\n",
    "        print(\"price is 320/kg\")\n",
    "\n",
    "class fruit_price_update(fruits):\n",
    "    def apple(self):\n",
    "        print(\"apple price is 120/kg\")\n",
    "    def orange(self):\n",
    "        print(\"apple price 120\")"
   ]
  },
  {
   "cell_type": "code",
   "execution_count": null,
   "id": "f61e31c3",
   "metadata": {},
   "outputs": [],
   "source": [
    "#Access modifier\n",
    "# 1.public variable e.g a\n",
    "# 2.protected variable->underscore before variable e.g' _a 'cant access outside of function in\n",
    "# method also\n",
    "# 3.private variable -> it have double underscore e.g '__a' can access in a file\n",
    "# _a=12\n",
    "# print(_a)\n",
    "\n",
    "\"\"\" how to access private variable?-> by the help of methods \"\"\"\n",
    "# print(movie1._bookmyshow__pwd)"
   ]
  },
  {
   "cell_type": "markdown",
   "id": "b465ce8e",
   "metadata": {},
   "source": [
    "operator overloading\n",
    "class book: \n",
    " def __init__(self,name,price):\n",
    " self.name=name\n",
    " self.price=price\n",
    " def __add__(self,other):\n",
    "  return self.price+other.price\n",
    "\n",
    "b1=book('harypotter',2300)\n",
    "b2=book('kgf',2120)"
   ]
  },
  {
   "cell_type": "code",
   "execution_count": 2,
   "id": "2bebc82f",
   "metadata": {},
   "outputs": [
    {
     "name": "stdout",
     "output_type": "stream",
     "text": [
      "4420\n"
     ]
    }
   ],
   "source": [
    "class book: \n",
    " def __init__(self,name,price):\n",
    "  self.name=name\n",
    "  self.price=price\n",
    " def __add__(self,other):\n",
    "  return self.price+other.price\n",
    "\n",
    "b1=book('harypotter',2300)\n",
    "b2=book('kgf',2120)\n",
    "print(b1+b2)"
   ]
  }
 ],
 "metadata": {
  "kernelspec": {
   "display_name": "Python 3",
   "language": "python",
   "name": "python3"
  },
  "language_info": {
   "codemirror_mode": {
    "name": "ipython",
    "version": 3
   },
   "file_extension": ".py",
   "mimetype": "text/x-python",
   "name": "python",
   "nbconvert_exporter": "python",
   "pygments_lexer": "ipython3",
   "version": "3.13.5"
  }
 },
 "nbformat": 4,
 "nbformat_minor": 5
}
