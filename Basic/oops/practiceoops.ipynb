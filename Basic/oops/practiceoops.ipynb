{
 "cells": [
  {
   "cell_type": "code",
   "execution_count": null,
   "id": "e0fe573d",
   "metadata": {},
   "outputs": [],
   "source": [
    "# create a class and object\n",
    "class myclass:\n",
    "    print(\"hey\")\n",
    "\n",
    "    def xyz():\n",
    "        print(\"i am a class\")\n",
    "\n",
    "\n",
    "p1 = myclass()\n",
    "print(p1)"
   ]
  },
  {
   "cell_type": "code",
   "execution_count": null,
   "id": "8ed528ff",
   "metadata": {},
   "outputs": [],
   "source": [
    "# the __init__() method\n",
    "# it is a connstructor it called automatically\n",
    "\n",
    "# class Nami:\n",
    "#     def __init__(self,naam,age):\n",
    "#         self.name=naam\n",
    "#         self.age=age\n",
    "\n",
    "# p1=Nami(\"Abhi\",21)\n",
    "# print(p1.age)\n",
    "\n",
    "#the __str__()Method\n",
    "# that returned the value when class\n",
    "# object is returned as string\n",
    "\"\"\" note: take a argument based on the \n",
    "printing things \"\"\"\n",
    "# class nami:\n",
    "#     def __init__(self,naam,age):\n",
    "#      self.name = naam\n",
    "#      self.age=age\n",
    "#     def __str__(self):\n",
    "#        print(\"age\",self.age)\n",
    "#        return f'{self.name},{self.age}'\n",
    "    \n",
    "# p1=nami(\"abhinaw\",12)\n",
    "# print(p1)\n",
    "\n",
    "#method\n",
    "# class abhi:\n",
    "#     def __init__(self,naam,age):\n",
    "#         self.name=naam\n",
    "#         self.age=age\n",
    "#     def myfun(self):\n",
    "#         print(\"hello myself \"+self.name)\n",
    "\n",
    "# p1=abhi(\"abhinaw\",12)\n",
    "# p1.name=\"singh\" #to modify the name \n",
    "# print(p1.age)\n",
    "# del p1.age  #to delete the object\n",
    "# # print(p1.age)\n",
    "# p1.myfun()"
   ]
  },
  {
   "cell_type": "code",
   "execution_count": null,
   "id": "d46ae481",
   "metadata": {},
   "outputs": [],
   "source": [
    "#we can use other name insted of self\n",
    "#pass is used when we dont have any content"
   ]
  },
  {
   "cell_type": "markdown",
   "id": "917b6e74",
   "metadata": {},
   "source": [
    "# INHERITANCE\n",
    "\n",
    "read 5 types of inheritance"
   ]
  },
  {
   "cell_type": "code",
   "execution_count": null,
   "id": "a11c8867",
   "metadata": {},
   "outputs": [],
   "source": [
    "# inheritance \n",
    "# Inheritance              Type\t            Description\n",
    "# Single              Inheritance\t  One class inherits from one parent class\n",
    "# Multilevel\t        Inheritance   chain (Grandparent → Parent → Child)\n",
    "# Hierarchical\t    Multiple classes   inherit from the same parent\n",
    "# Multiple\t        One class inherits   from multiple parent classes\n",
    "# Hybrid\t    Combination of above types\n",
    "#cyclic is not possible\n",
    "\n",
    "# Note:-\n",
    "\n",
    "# super().__init__() is used to call all the above methods\n",
    "\n",
    "# Mrao algorithm"
   ]
  },
  {
   "cell_type": "code",
   "execution_count": null,
   "id": "266a0d5f",
   "metadata": {},
   "outputs": [
    {
     "name": "stdout",
     "output_type": "stream",
     "text": [
      "my father name is Nawanit Kumar Singh\n",
      "Nawanit Kumar Singh 41\n"
     ]
    }
   ],
   "source": [
    "# inheritance allows us to define a class that \n",
    "# inherits all the methods and properties from \n",
    "# another class.\n",
    "\n",
    "#parent and child class\n",
    "\n",
    "#to create a parent class\n",
    "class abhi:\n",
    "   def __init__(self,name ,age):\n",
    "      self.name=name\n",
    "      self.age=age\n",
    "\n",
    "   def print_name_age(self):\n",
    "      print(self.name,self.age)\n",
    "# p1=abhi(\"abhi\",21)\n",
    "# p1.print_name_age()\n",
    "\n",
    "# now a child class\n",
    "class student(abhi):\n",
    "   def __init__(self, name, age):\n",
    "      super().__init__(name, age)\n",
    "      print(\"my father name is\", self.name)\n",
    "\n",
    "p2 = student(\"Nawanit Kumar Singh\", 41)\n",
    "p2.print_name_age()"
   ]
  },
  {
   "cell_type": "code",
   "execution_count": null,
   "id": "ecae8dfd",
   "metadata": {},
   "outputs": [],
   "source": [
    "#__iter__() An iterator is an object that contains a countable number of values.\n",
    "#Lists, tuples, dictionaries, and sets are all iterable objects\n",
    "\n",
    "# mytuple=(\"apple\",\"banana\",\"cheery\",\"iceapple\")\n",
    "mytuple='abhinaw'\n",
    "myitr=iter(mytuple)\n",
    "print(next(myitr))\n",
    "print(next(myitr))\n",
    "print(next(myitr))\n",
    "print(next(myitr))"
   ]
  },
  {
   "cell_type": "markdown",
   "id": "f67e0477",
   "metadata": {},
   "source": [
    "# polymorphism"
   ]
  },
  {
   "cell_type": "code",
   "execution_count": null,
   "id": "c5dee298",
   "metadata": {},
   "outputs": [
    {
     "name": "stdout",
     "output_type": "stream",
     "text": [
      "Employee works 8 hours\n"
     ]
    }
   ],
   "source": [
    "# polymorphism means many form\n",
    "# that means same function diffrent behaviour\n",
    "\n",
    "# 2 concept\n",
    "\n",
    "# overriding - when one function change the behavoir of the data is known as overriding\n",
    "class Employee:\n",
    "    def work(self):\n",
    "        print(\"Employee works 8 hours\")\n",
    "\n",
    "class Developer(Employee):\n",
    "    def work(self):\n",
    "        print(\"Developer works 10 hours and codes\")\n",
    "\n",
    "# Usage\n",
    "e = Employee()\n",
    "e.work()\n",
    "\n",
    "d = Developer()\n",
    "d.work()\n"
   ]
  },
  {
   "cell_type": "code",
   "execution_count": null,
   "id": "4b19d94d",
   "metadata": {},
   "outputs": [],
   "source": [
    "# overloading- when a add(a,b ) and add(a,b,c) in this case\n",
    "#the 2nd function is overloading the first one .\n",
    "\n",
    "#overloading\n",
    "# class sum():\n",
    "#    def add(a,b):\n",
    "#       print(a+b)\n",
    "# def add(a,b,c):\n",
    "#       print(a+b+c)\n",
    "# add(12,12,12)\n",
    "# add(12,12) will give error\n"
   ]
  },
  {
   "cell_type": "code",
   "execution_count": 6,
   "id": "cddb2772",
   "metadata": {},
   "outputs": [
    {
     "name": "stdout",
     "output_type": "stream",
     "text": [
      "Bark\n",
      "Meow\n"
     ]
    }
   ],
   "source": [
    "#Abstract CLass\n",
    "\n",
    "from abc import ABC, abstractmethod\n",
    "\n",
    "# Abstract class\n",
    "class Animal(ABC):\n",
    "    @abstractmethod\n",
    "    def sound(self):\n",
    "        pass\n",
    "\n",
    "# Subclass implementing the abstract method\n",
    "class Dog(Animal):\n",
    "    def sound(self):\n",
    "        return \"Bark\"\n",
    "\n",
    "class Cat(Animal):\n",
    "    def sound(self):\n",
    "        return \"Meow\"\n",
    "\n",
    "# Usage\n",
    "dog = Dog()\n",
    "print(dog.sound())  # Output: Bark\n",
    "\n",
    "cat = Cat()\n",
    "print(cat.sound())  # Output: Meow\n"
   ]
  },
  {
   "cell_type": "markdown",
   "id": "59729b29",
   "metadata": {},
   "source": [
    "# encapsulation\n",
    "It involves bundling data (attributes) and methods (functions) within a single unit (class) and restricting direct access to some of the object's components to protect the integrity of the data."
   ]
  },
  {
   "cell_type": "code",
   "execution_count": null,
   "id": "22389564",
   "metadata": {},
   "outputs": [
    {
     "name": "stdout",
     "output_type": "stream",
     "text": [
      "12\n"
     ]
    }
   ],
   "source": [
    "#Access modifier\n",
    "# 1.public variable\n",
    "# 2.protected variable->underscore before variable e.g' _a 'cant access outside of function in\n",
    "# method also\n",
    "# 3.private variable -> it have double underscore e.g '__a' can access in a file\n",
    "_a=12\n",
    "print(_a)\n",
    "\n",
    "\"\"\" how to access private variable \"\"\"\n",
    "print"
   ]
  },
  {
   "cell_type": "code",
   "execution_count": null,
   "id": "f7722127",
   "metadata": {},
   "outputs": [],
   "source": [
    "class Employee:\n",
    "    def __init__(self, name, salary):\n",
    "        self.name = name  # Public attribute\n",
    "        self.__salary = salary  # Private attribute (indicated by double underscore)\n",
    "\n",
    "    # Public method to access private attribute\n",
    "    def get_salary(self):\n",
    "        return self.__salary\n",
    "\n",
    "    # Public method to modify private attribute\n",
    "    def set_salary(self, new_salary):\n",
    "        if new_salary > 0:\n",
    "            self.__salary = new_salary\n",
    "        else:\n",
    "            print(\"Invalid salary amount!\")\n",
    "\n",
    "# Creating an object of the Employee class\n",
    "emp = Employee(\"Alice\", 50000)\n",
    "\n",
    "# Accessing public attribute\n",
    "print(emp.name)  # Output: Alice\n",
    "\n",
    "# Accessing private attribute (will raise an AttributeError)\n",
    "# print(emp.__salary)\n",
    "\n",
    "# Using public methods to interact with private attribute\n",
    "print(emp.get_salary())  # Output: 50000\n",
    "emp.set_salary(60000)\n",
    "print(emp.get_salary())  # Output: 60000\n"
   ]
  }
 ],
 "metadata": {
  "kernelspec": {
   "display_name": "Python 3",
   "language": "python",
   "name": "python3"
  },
  "language_info": {
   "codemirror_mode": {
    "name": "ipython",
    "version": 3
   },
   "file_extension": ".py",
   "mimetype": "text/x-python",
   "name": "python",
   "nbconvert_exporter": "python",
   "pygments_lexer": "ipython3",
   "version": "3.13.5"
  }
 },
 "nbformat": 4,
 "nbformat_minor": 5
}
